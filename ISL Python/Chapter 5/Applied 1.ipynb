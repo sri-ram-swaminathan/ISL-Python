{
 "cells": [
  {
   "cell_type": "code",
   "execution_count": 1,
   "id": "10aa72d6-4936-4d49-8513-4bda1b82f489",
   "metadata": {},
   "outputs": [],
   "source": [
    "import numpy as np\n",
    "import statsmodels.api as sm\n",
    "from ISLP import load_data, confusion_table\n",
    "from ISLP.models import (ModelSpec as MS, summarize, poly)\n",
    "from sklearn.model_selection import train_test_split\n",
    "\n",
    "from functools import partial\n",
    "from sklearn.model_selection import (cross_validate, KFold, ShuffleSplit)\n",
    "from sklearn.base import clone\n",
    "from ISLP.models import sklearn_sm"
   ]
  },
  {
   "cell_type": "markdown",
   "id": "4380ff3a-5235-4ecf-8c16-6d80cb340b82",
   "metadata": {},
   "source": [
    "#### Q5\n",
    "In Chapter 4, we used logistic regression to predict the probability of default using income and balance on the Default data set. We will now estimate the test error of this logistic regression model using the validation set approach. Do not forget to set a random seed before beginning your analysis."
   ]
  },
  {
   "cell_type": "code",
   "execution_count": 2,
   "id": "e08ccf1e-98f5-44f2-b34d-4ffb382384e5",
   "metadata": {
    "scrolled": true
   },
   "outputs": [
    {
     "name": "stdout",
     "output_type": "stream",
     "text": [
      "The number of data points are 10000\n"
     ]
    },
    {
     "data": {
      "text/html": [
       "<div>\n",
       "<style scoped>\n",
       "    .dataframe tbody tr th:only-of-type {\n",
       "        vertical-align: middle;\n",
       "    }\n",
       "\n",
       "    .dataframe tbody tr th {\n",
       "        vertical-align: top;\n",
       "    }\n",
       "\n",
       "    .dataframe thead th {\n",
       "        text-align: right;\n",
       "    }\n",
       "</style>\n",
       "<table border=\"1\" class=\"dataframe\">\n",
       "  <thead>\n",
       "    <tr style=\"text-align: right;\">\n",
       "      <th></th>\n",
       "      <th>default</th>\n",
       "      <th>student</th>\n",
       "      <th>balance</th>\n",
       "      <th>income</th>\n",
       "    </tr>\n",
       "  </thead>\n",
       "  <tbody>\n",
       "    <tr>\n",
       "      <th>0</th>\n",
       "      <td>No</td>\n",
       "      <td>No</td>\n",
       "      <td>729.526495</td>\n",
       "      <td>44361.625074</td>\n",
       "    </tr>\n",
       "    <tr>\n",
       "      <th>1</th>\n",
       "      <td>No</td>\n",
       "      <td>Yes</td>\n",
       "      <td>817.180407</td>\n",
       "      <td>12106.134700</td>\n",
       "    </tr>\n",
       "    <tr>\n",
       "      <th>2</th>\n",
       "      <td>No</td>\n",
       "      <td>No</td>\n",
       "      <td>1073.549164</td>\n",
       "      <td>31767.138947</td>\n",
       "    </tr>\n",
       "    <tr>\n",
       "      <th>3</th>\n",
       "      <td>No</td>\n",
       "      <td>No</td>\n",
       "      <td>529.250605</td>\n",
       "      <td>35704.493935</td>\n",
       "    </tr>\n",
       "    <tr>\n",
       "      <th>4</th>\n",
       "      <td>No</td>\n",
       "      <td>No</td>\n",
       "      <td>785.655883</td>\n",
       "      <td>38463.495879</td>\n",
       "    </tr>\n",
       "  </tbody>\n",
       "</table>\n",
       "</div>"
      ],
      "text/plain": [
       "  default student      balance        income\n",
       "0      No      No   729.526495  44361.625074\n",
       "1      No     Yes   817.180407  12106.134700\n",
       "2      No      No  1073.549164  31767.138947\n",
       "3      No      No   529.250605  35704.493935\n",
       "4      No      No   785.655883  38463.495879"
      ]
     },
     "execution_count": 2,
     "metadata": {},
     "output_type": "execute_result"
    }
   ],
   "source": [
    "Default = load_data('Default')\n",
    "print(\"The number of data points are {0}\".format(Default.shape[0]))\n",
    "Default.head()"
   ]
  },
  {
   "cell_type": "markdown",
   "id": "7f1aab93-25cb-4d4b-9f08-14b2c6be4527",
   "metadata": {},
   "source": [
    "(a) Fit a logistic regression model that uses income and balance to predict default.\n",
    "\n",
    "(b) Using the validation set approach, estimate the test error of this model. In order to do this, you must perform the following steps:\n",
    "\n",
    "i. Split the sample set into a training set and a validation set.\n",
    "\n",
    "ii. Fit a multiple logistic regression model using only the training observations.\n",
    "\n",
    "iii. Obtain a prediction of default status for each individual in the validation set by computing the posterior  probability of  default for that individual, and classifying the individual to  the default category if the posterior probability is greater than 0.5.\n",
    "\n",
    "iv. Compute the validation set error, which is the fraction of the observations in the validation set that are misclassified.\n",
    "\n",
    "(c) Repeat the process in (b) three times, using three different split of the observations into a training set and a validation set. Comment on the results obtained."
   ]
  },
  {
   "cell_type": "code",
   "execution_count": 3,
   "id": "d945ec19-386e-45a5-95c4-a079ad0cf0f5",
   "metadata": {},
   "outputs": [
    {
     "name": "stdout",
     "output_type": "stream",
     "text": [
      "Optimization terminated successfully.\n",
      "         Current function value: 0.078493\n",
      "         Iterations 10\n",
      "The validation set error for random seed 42 is 3.64%\n",
      "Optimization terminated successfully.\n",
      "         Current function value: 0.079927\n",
      "         Iterations 10\n",
      "The validation set error for random seed 3 is 3.66%\n",
      "Optimization terminated successfully.\n",
      "         Current function value: 0.075339\n",
      "         Iterations 10\n",
      "The validation set error for random seed 15 is 3.94%\n"
     ]
    }
   ],
   "source": [
    "# Defining a function that performs steps ii to iv for different random states\n",
    "# A multiple logistic regression model is fit using income, balance to predict default \n",
    "\n",
    "def validation_set(seed, predictors):\n",
    "    # Splitting the data for different seed values \n",
    "    Default_train, Default_test = train_test_split(Default, test_size=5000, random_state=seed) \n",
    "    predictors = MS(predictors)\n",
    "\n",
    "    \n",
    "    # Fitting the multiple regression model \n",
    "    X_train = predictors.fit_transform(Default_train)\n",
    "    y_train = Default_train.default == 'Yes' # Logistic regression predicts probability of one event\n",
    "    X_test = predictors.fit_transform(Default_test)\n",
    "    y_test = Default_test.default\n",
    "    \n",
    "    glm = sm.Logit(y_train,X_train) \n",
    "    results = glm.fit() \n",
    "    \n",
    "    # Making predictions and finding validation error  \n",
    "    probs = results.predict(X_test)\n",
    "    labels = np.array(['No']*5000) \n",
    "    labels[probs>0.5] = 'Yes'\n",
    "    error = (np.mean(labels != y_test))*100\n",
    "    print(\"The validation set error for random seed {0} is {1}%\".format(seed, round(error,3)))\n",
    "\n",
    "for i in [42,3,15]:\n",
    "    validation_set(i,['balance','income'])"
   ]
  },
  {
   "cell_type": "markdown",
   "id": "82dcea38-4887-478a-baea-26975ee5923d",
   "metadata": {},
   "source": [
    "> The errors vary (slightly) with different random splits. This is expected from the validation set approach since the method has high variance."
   ]
  },
  {
   "cell_type": "markdown",
   "id": "963af096-1f9b-4e1e-8d44-8192e9c16151",
   "metadata": {},
   "source": [
    "(d) Now consider a logistic regression model that predicts the probability of default using income, balance, and a dummy variable for student. Estimate the test error for this model using the validation set approach. Comment on whether or not including a dummy variable for student leads to a reduction in the test error rate."
   ]
  },
  {
   "cell_type": "code",
   "execution_count": 4,
   "id": "ab6e2c4b-817e-451b-936b-69e7f2d0fb7a",
   "metadata": {},
   "outputs": [
    {
     "name": "stdout",
     "output_type": "stream",
     "text": [
      "Optimization terminated successfully.\n",
      "         Current function value: 0.077900\n",
      "         Iterations 10\n",
      "The validation set error for random seed 42 is 3.66%\n",
      "Optimization terminated successfully.\n",
      "         Current function value: 0.079409\n",
      "         Iterations 10\n",
      "The validation set error for random seed 3 is 3.7%\n",
      "Optimization terminated successfully.\n",
      "         Current function value: 0.075292\n",
      "         Iterations 10\n",
      "The validation set error for random seed 15 is 3.94%\n"
     ]
    }
   ],
   "source": [
    "for i in [42,3,15]:\n",
    "    validation_set(i,['balance','income','student'])"
   ]
  },
  {
   "cell_type": "markdown",
   "id": "0ef5dd6e-3eb5-40dd-a42a-cf76d7d2b9a6",
   "metadata": {},
   "source": [
    "> Since the validation errors are very similar to the previous model, there doesn't seem to be an improvement using the student variable."
   ]
  },
  {
   "cell_type": "markdown",
   "id": "76d7d71a-a10c-4b7e-884d-a4040b54720a",
   "metadata": {},
   "source": [
    "#### Q7\n",
    "In Sections 5.1.2 and 5.1.3, we saw that the cross_validate() function can be used in order to compute the LOOCV test error estimate. Alternatively, one could compute those quantities using just sm.GLM() and the predict() method of the fitted model within a for loop. You will now take this approach in order to compute the LOOCV error for a simple logistic regression model on the Weekly data set. Recall that in the context of classification problems, the LOOCV error is given in (5.4)."
   ]
  },
  {
   "cell_type": "code",
   "execution_count": 5,
   "id": "56139849-12ba-477f-ba04-dbce1e09fe39",
   "metadata": {},
   "outputs": [
    {
     "name": "stdout",
     "output_type": "stream",
     "text": [
      "The number of data points are 1089\n"
     ]
    },
    {
     "data": {
      "text/html": [
       "<div>\n",
       "<style scoped>\n",
       "    .dataframe tbody tr th:only-of-type {\n",
       "        vertical-align: middle;\n",
       "    }\n",
       "\n",
       "    .dataframe tbody tr th {\n",
       "        vertical-align: top;\n",
       "    }\n",
       "\n",
       "    .dataframe thead th {\n",
       "        text-align: right;\n",
       "    }\n",
       "</style>\n",
       "<table border=\"1\" class=\"dataframe\">\n",
       "  <thead>\n",
       "    <tr style=\"text-align: right;\">\n",
       "      <th></th>\n",
       "      <th>Year</th>\n",
       "      <th>Lag1</th>\n",
       "      <th>Lag2</th>\n",
       "      <th>Lag3</th>\n",
       "      <th>Lag4</th>\n",
       "      <th>Lag5</th>\n",
       "      <th>Volume</th>\n",
       "      <th>Today</th>\n",
       "      <th>Direction</th>\n",
       "    </tr>\n",
       "  </thead>\n",
       "  <tbody>\n",
       "    <tr>\n",
       "      <th>0</th>\n",
       "      <td>1990</td>\n",
       "      <td>0.816</td>\n",
       "      <td>1.572</td>\n",
       "      <td>-3.936</td>\n",
       "      <td>-0.229</td>\n",
       "      <td>-3.484</td>\n",
       "      <td>0.154976</td>\n",
       "      <td>-0.270</td>\n",
       "      <td>Down</td>\n",
       "    </tr>\n",
       "    <tr>\n",
       "      <th>1</th>\n",
       "      <td>1990</td>\n",
       "      <td>-0.270</td>\n",
       "      <td>0.816</td>\n",
       "      <td>1.572</td>\n",
       "      <td>-3.936</td>\n",
       "      <td>-0.229</td>\n",
       "      <td>0.148574</td>\n",
       "      <td>-2.576</td>\n",
       "      <td>Down</td>\n",
       "    </tr>\n",
       "    <tr>\n",
       "      <th>2</th>\n",
       "      <td>1990</td>\n",
       "      <td>-2.576</td>\n",
       "      <td>-0.270</td>\n",
       "      <td>0.816</td>\n",
       "      <td>1.572</td>\n",
       "      <td>-3.936</td>\n",
       "      <td>0.159837</td>\n",
       "      <td>3.514</td>\n",
       "      <td>Up</td>\n",
       "    </tr>\n",
       "    <tr>\n",
       "      <th>3</th>\n",
       "      <td>1990</td>\n",
       "      <td>3.514</td>\n",
       "      <td>-2.576</td>\n",
       "      <td>-0.270</td>\n",
       "      <td>0.816</td>\n",
       "      <td>1.572</td>\n",
       "      <td>0.161630</td>\n",
       "      <td>0.712</td>\n",
       "      <td>Up</td>\n",
       "    </tr>\n",
       "    <tr>\n",
       "      <th>4</th>\n",
       "      <td>1990</td>\n",
       "      <td>0.712</td>\n",
       "      <td>3.514</td>\n",
       "      <td>-2.576</td>\n",
       "      <td>-0.270</td>\n",
       "      <td>0.816</td>\n",
       "      <td>0.153728</td>\n",
       "      <td>1.178</td>\n",
       "      <td>Up</td>\n",
       "    </tr>\n",
       "  </tbody>\n",
       "</table>\n",
       "</div>"
      ],
      "text/plain": [
       "   Year   Lag1   Lag2   Lag3   Lag4   Lag5    Volume  Today Direction\n",
       "0  1990  0.816  1.572 -3.936 -0.229 -3.484  0.154976 -0.270      Down\n",
       "1  1990 -0.270  0.816  1.572 -3.936 -0.229  0.148574 -2.576      Down\n",
       "2  1990 -2.576 -0.270  0.816  1.572 -3.936  0.159837  3.514        Up\n",
       "3  1990  3.514 -2.576 -0.270  0.816  1.572  0.161630  0.712        Up\n",
       "4  1990  0.712  3.514 -2.576 -0.270  0.816  0.153728  1.178        Up"
      ]
     },
     "execution_count": 5,
     "metadata": {},
     "output_type": "execute_result"
    }
   ],
   "source": [
    "Weekly = load_data('Weekly')\n",
    "print(\"The number of data points are {0}\".format(Weekly.shape[0]))\n",
    "Weekly.head()"
   ]
  },
  {
   "cell_type": "markdown",
   "id": "4545c7b9-b9f1-4bc2-93bd-b06d1fb88c27",
   "metadata": {},
   "source": [
    "(a) Fit a logistic regression model that predicts Direction using Lag1 and Lag2 using all but the first observation."
   ]
  },
  {
   "cell_type": "code",
   "execution_count": 6,
   "id": "952bf43f-4406-4d55-8651-cb1f506dfbc4",
   "metadata": {},
   "outputs": [
    {
     "data": {
      "text/html": [
       "<div>\n",
       "<style scoped>\n",
       "    .dataframe tbody tr th:only-of-type {\n",
       "        vertical-align: middle;\n",
       "    }\n",
       "\n",
       "    .dataframe tbody tr th {\n",
       "        vertical-align: top;\n",
       "    }\n",
       "\n",
       "    .dataframe thead th {\n",
       "        text-align: right;\n",
       "    }\n",
       "</style>\n",
       "<table border=\"1\" class=\"dataframe\">\n",
       "  <thead>\n",
       "    <tr style=\"text-align: right;\">\n",
       "      <th></th>\n",
       "      <th>coef</th>\n",
       "      <th>std err</th>\n",
       "      <th>z</th>\n",
       "      <th>P&gt;|z|</th>\n",
       "    </tr>\n",
       "  </thead>\n",
       "  <tbody>\n",
       "    <tr>\n",
       "      <th>intercept</th>\n",
       "      <td>0.2232</td>\n",
       "      <td>0.061</td>\n",
       "      <td>3.630</td>\n",
       "      <td>0.000</td>\n",
       "    </tr>\n",
       "    <tr>\n",
       "      <th>Lag1</th>\n",
       "      <td>-0.0384</td>\n",
       "      <td>0.026</td>\n",
       "      <td>-1.466</td>\n",
       "      <td>0.143</td>\n",
       "    </tr>\n",
       "    <tr>\n",
       "      <th>Lag2</th>\n",
       "      <td>0.0608</td>\n",
       "      <td>0.027</td>\n",
       "      <td>2.291</td>\n",
       "      <td>0.022</td>\n",
       "    </tr>\n",
       "  </tbody>\n",
       "</table>\n",
       "</div>"
      ],
      "text/plain": [
       "             coef  std err      z  P>|z|\n",
       "intercept  0.2232    0.061  3.630  0.000\n",
       "Lag1      -0.0384    0.026 -1.466  0.143\n",
       "Lag2       0.0608    0.027  2.291  0.022"
      ]
     },
     "execution_count": 6,
     "metadata": {},
     "output_type": "execute_result"
    }
   ],
   "source": [
    "# Splitting the data\n",
    "Weekly_train = Weekly.drop([0])\n",
    "Weekly_test = Weekly.iloc[0].to_frame().T\n",
    "y = Weekly.Direction == 'Up'\n",
    "y_train = y.drop([0])\n",
    "y_test = y[0]\n",
    "\n",
    "# Fitting the model \n",
    "predictors = MS(['Lag1','Lag2'])\n",
    "X_train = predictors.fit_transform(Weekly_train)\n",
    "X_test = predictors.fit_transform(Weekly_test)\n",
    "\n",
    "glm = sm.GLM(y_train, X_train, family=sm.families.Binomial())\n",
    "results = glm.fit()\n",
    "summarize(results)"
   ]
  },
  {
   "cell_type": "markdown",
   "id": "ebcead3c-de19-4c30-b313-d6323fb97241",
   "metadata": {},
   "source": [
    "(b) Use the model from (a) to predict the direction of the first observation. You can do this by predicting that the first observation will go up if P ( Direction = \"Up\"| Lag1, Lag2) > 0.5. Was this observation correctly classified?"
   ]
  },
  {
   "cell_type": "code",
   "execution_count": 7,
   "id": "5fcb1a0d-e53f-4a72-9936-c3f7e41a4d4e",
   "metadata": {},
   "outputs": [
    {
     "data": {
      "text/plain": [
       "array([0.57139232])"
      ]
     },
     "execution_count": 7,
     "metadata": {},
     "output_type": "execute_result"
    }
   ],
   "source": [
    "prob = results.predict(X_test.values.astype(float))\n",
    "prob"
   ]
  },
  {
   "cell_type": "markdown",
   "id": "41ca780e-bb80-4a7f-b5ae-c5b4fc77b7ee",
   "metadata": {},
   "source": [
    "(c) Use the model from (a) to predict the direction of the first observation. You can do this by predicting that the\n",
    "first observation will go up if P ( Direction = \"Up\"| Lag1, Lag2) > 0.5. Was this observation correctly classified?"
   ]
  },
  {
   "cell_type": "code",
   "execution_count": 8,
   "id": "929b26d9-6265-44a4-94b3-dc5bf099cd6e",
   "metadata": {},
   "outputs": [
    {
     "name": "stdout",
     "output_type": "stream",
     "text": [
      "incorrect\n"
     ]
    }
   ],
   "source": [
    "prediction = 'Up' if prob>0.5 else 'Down'\n",
    "print(\"correct\" if prediction==y_test else \"incorrect\")"
   ]
  },
  {
   "cell_type": "markdown",
   "id": "6bdbc375-9ef1-4f0a-aac3-4cb21611a071",
   "metadata": {},
   "source": [
    "(d) Write a for loop from i = 1 to i = n, where n is the number of observations in the data set, that performs each of the following steps:\n",
    "\n",
    "i. Fit a logistic regression model using all but the ith observation to predict Direction using Lag1 and Lag2.\n",
    "\n",
    "ii. Compute the posterior probability of the market moving up for the ith observation.\n",
    "\n",
    "iii. Use the posterior probability for the ith observation in order to predict whether or not the market moves up.\n",
    "\n",
    "iv. Determine whether or not an error was made in predicting the direction for the ith observation. If an error was made, then indicate this as a 1, and otherwise indicate it as a 0.\n",
    "\n",
    "(e) Take the average of the n numbers obtained in (d) iv in order to obtain the LOOCV estimate for the test error. Comment on the results."
   ]
  },
  {
   "cell_type": "code",
   "execution_count": 9,
   "id": "de282ed1-cc41-4bff-a5fd-8b7794eb66a4",
   "metadata": {},
   "outputs": [
    {
     "name": "stdout",
     "output_type": "stream",
     "text": [
      "490 out of 1089 examples are misclassified\n",
      "and the error rate is 45.0%\n"
     ]
    }
   ],
   "source": [
    "# Defining a function that performs LOOCV for given data \n",
    "\n",
    "def LOOCV():\n",
    "    n = Weekly.shape[0]\n",
    "    misclassification_count = 0\n",
    "    y = Weekly.Direction == 'Up'\n",
    "    for i in range(n):\n",
    "        Weekly_train = Weekly.drop([i])\n",
    "        Weekly_test = Weekly.iloc[i].to_frame().T\n",
    "        y_train = y.drop([i])\n",
    "        y_test = y[i]\n",
    "\n",
    "        # Fitting the model \n",
    "        predictors = MS(['Lag1','Lag2'])\n",
    "        X_train = predictors.fit_transform(Weekly_train)\n",
    "        X_test = predictors.fit_transform(Weekly_test)\n",
    "\n",
    "        glm = sm.GLM(y_train, X_train, family=sm.families.Binomial())\n",
    "        results = glm.fit()\n",
    "        \n",
    "        # Making predictions and counting errors\n",
    "        prob = results.predict(X_test.values.astype(float))\n",
    "        prediction = True if prob>0.5 else False\n",
    "        if prediction!=y_test:\n",
    "            misclassification_count+=1\n",
    "    print(\"{0} out of 1089 examples are misclassified\".format(misclassification_count))\n",
    "    print(\"and the error rate is {0}%\".format(round(misclassification_count/n,2)*100))\n",
    "\n",
    "LOOCV()"
   ]
  },
  {
   "cell_type": "markdown",
   "id": "6af3d003-3a21-4ffb-84a2-6e762f3ed13b",
   "metadata": {},
   "source": [
    "> We see that the validation error is 45%, which is only slightly better than flipping a coin. However, there is large positive correlation in the training examples. Hence this error is most likely an overestimate of the actual test error. "
   ]
  }
 ],
 "metadata": {
  "kernelspec": {
   "display_name": "Python 3 (ipykernel)",
   "language": "python",
   "name": "python3"
  },
  "language_info": {
   "codemirror_mode": {
    "name": "ipython",
    "version": 3
   },
   "file_extension": ".py",
   "mimetype": "text/x-python",
   "name": "python",
   "nbconvert_exporter": "python",
   "pygments_lexer": "ipython3",
   "version": "3.12.4"
  }
 },
 "nbformat": 4,
 "nbformat_minor": 5
}
