{
 "cells": [
  {
   "cell_type": "code",
   "execution_count": 1,
   "id": "00c3b159-3a9a-4d41-b674-70922b26d534",
   "metadata": {},
   "outputs": [],
   "source": [
    "import numpy as np\n",
    "import pandas as pd\n",
    "import matplotlib.pyplot as plt\n",
    "from sklearn.model_selection import train_test_split\n",
    "from sklearn.svm import SVC\n",
    "from sklearn.metrics import accuracy_score\n",
    "from sklearn import preprocessing\n",
    "from sklearn.model_selection import cross_val_score\n",
    "from ISLP import load_data\n",
    "\n",
    "# Prevent warnings \n",
    "import warnings\n",
    "warnings.filterwarnings(\"ignore\", category=FutureWarning)"
   ]
  },
  {
   "cell_type": "markdown",
   "id": "416bcb61-9a62-4ad5-8d73-a80546841362",
   "metadata": {},
   "source": [
    "#### Q8\n",
    "This problem involves the OJ data set which is part of the ISLP package."
   ]
  },
  {
   "cell_type": "code",
   "execution_count": 2,
   "id": "8381aa45-75cf-44c1-a615-30cc0f41cc38",
   "metadata": {},
   "outputs": [
    {
     "data": {
      "text/html": [
       "<div>\n",
       "<style scoped>\n",
       "    .dataframe tbody tr th:only-of-type {\n",
       "        vertical-align: middle;\n",
       "    }\n",
       "\n",
       "    .dataframe tbody tr th {\n",
       "        vertical-align: top;\n",
       "    }\n",
       "\n",
       "    .dataframe thead th {\n",
       "        text-align: right;\n",
       "    }\n",
       "</style>\n",
       "<table border=\"1\" class=\"dataframe\">\n",
       "  <thead>\n",
       "    <tr style=\"text-align: right;\">\n",
       "      <th></th>\n",
       "      <th>Purchase</th>\n",
       "      <th>WeekofPurchase</th>\n",
       "      <th>StoreID</th>\n",
       "      <th>PriceCH</th>\n",
       "      <th>PriceMM</th>\n",
       "      <th>DiscCH</th>\n",
       "      <th>DiscMM</th>\n",
       "      <th>SpecialCH</th>\n",
       "      <th>SpecialMM</th>\n",
       "      <th>LoyalCH</th>\n",
       "      <th>SalePriceMM</th>\n",
       "      <th>SalePriceCH</th>\n",
       "      <th>PriceDiff</th>\n",
       "      <th>Store7</th>\n",
       "      <th>PctDiscMM</th>\n",
       "      <th>PctDiscCH</th>\n",
       "      <th>ListPriceDiff</th>\n",
       "      <th>STORE</th>\n",
       "    </tr>\n",
       "  </thead>\n",
       "  <tbody>\n",
       "    <tr>\n",
       "      <th>0</th>\n",
       "      <td>CH</td>\n",
       "      <td>237</td>\n",
       "      <td>1</td>\n",
       "      <td>1.75</td>\n",
       "      <td>1.99</td>\n",
       "      <td>0.00</td>\n",
       "      <td>0.0</td>\n",
       "      <td>0</td>\n",
       "      <td>0</td>\n",
       "      <td>0.500000</td>\n",
       "      <td>1.99</td>\n",
       "      <td>1.75</td>\n",
       "      <td>0.24</td>\n",
       "      <td>0</td>\n",
       "      <td>0.000000</td>\n",
       "      <td>0.000000</td>\n",
       "      <td>0.24</td>\n",
       "      <td>1</td>\n",
       "    </tr>\n",
       "    <tr>\n",
       "      <th>1</th>\n",
       "      <td>CH</td>\n",
       "      <td>239</td>\n",
       "      <td>1</td>\n",
       "      <td>1.75</td>\n",
       "      <td>1.99</td>\n",
       "      <td>0.00</td>\n",
       "      <td>0.3</td>\n",
       "      <td>0</td>\n",
       "      <td>1</td>\n",
       "      <td>0.600000</td>\n",
       "      <td>1.69</td>\n",
       "      <td>1.75</td>\n",
       "      <td>-0.06</td>\n",
       "      <td>0</td>\n",
       "      <td>0.150754</td>\n",
       "      <td>0.000000</td>\n",
       "      <td>0.24</td>\n",
       "      <td>1</td>\n",
       "    </tr>\n",
       "    <tr>\n",
       "      <th>2</th>\n",
       "      <td>CH</td>\n",
       "      <td>245</td>\n",
       "      <td>1</td>\n",
       "      <td>1.86</td>\n",
       "      <td>2.09</td>\n",
       "      <td>0.17</td>\n",
       "      <td>0.0</td>\n",
       "      <td>0</td>\n",
       "      <td>0</td>\n",
       "      <td>0.680000</td>\n",
       "      <td>2.09</td>\n",
       "      <td>1.69</td>\n",
       "      <td>0.40</td>\n",
       "      <td>0</td>\n",
       "      <td>0.000000</td>\n",
       "      <td>0.091398</td>\n",
       "      <td>0.23</td>\n",
       "      <td>1</td>\n",
       "    </tr>\n",
       "    <tr>\n",
       "      <th>3</th>\n",
       "      <td>MM</td>\n",
       "      <td>227</td>\n",
       "      <td>1</td>\n",
       "      <td>1.69</td>\n",
       "      <td>1.69</td>\n",
       "      <td>0.00</td>\n",
       "      <td>0.0</td>\n",
       "      <td>0</td>\n",
       "      <td>0</td>\n",
       "      <td>0.400000</td>\n",
       "      <td>1.69</td>\n",
       "      <td>1.69</td>\n",
       "      <td>0.00</td>\n",
       "      <td>0</td>\n",
       "      <td>0.000000</td>\n",
       "      <td>0.000000</td>\n",
       "      <td>0.00</td>\n",
       "      <td>1</td>\n",
       "    </tr>\n",
       "    <tr>\n",
       "      <th>4</th>\n",
       "      <td>CH</td>\n",
       "      <td>228</td>\n",
       "      <td>7</td>\n",
       "      <td>1.69</td>\n",
       "      <td>1.69</td>\n",
       "      <td>0.00</td>\n",
       "      <td>0.0</td>\n",
       "      <td>0</td>\n",
       "      <td>0</td>\n",
       "      <td>0.956535</td>\n",
       "      <td>1.69</td>\n",
       "      <td>1.69</td>\n",
       "      <td>0.00</td>\n",
       "      <td>1</td>\n",
       "      <td>0.000000</td>\n",
       "      <td>0.000000</td>\n",
       "      <td>0.00</td>\n",
       "      <td>0</td>\n",
       "    </tr>\n",
       "  </tbody>\n",
       "</table>\n",
       "</div>"
      ],
      "text/plain": [
       "  Purchase  WeekofPurchase  StoreID  PriceCH  PriceMM  DiscCH  DiscMM  \\\n",
       "0       CH             237        1     1.75     1.99    0.00     0.0   \n",
       "1       CH             239        1     1.75     1.99    0.00     0.3   \n",
       "2       CH             245        1     1.86     2.09    0.17     0.0   \n",
       "3       MM             227        1     1.69     1.69    0.00     0.0   \n",
       "4       CH             228        7     1.69     1.69    0.00     0.0   \n",
       "\n",
       "   SpecialCH  SpecialMM   LoyalCH  SalePriceMM  SalePriceCH  PriceDiff  \\\n",
       "0          0          0  0.500000         1.99         1.75       0.24   \n",
       "1          0          1  0.600000         1.69         1.75      -0.06   \n",
       "2          0          0  0.680000         2.09         1.69       0.40   \n",
       "3          0          0  0.400000         1.69         1.69       0.00   \n",
       "4          0          0  0.956535         1.69         1.69       0.00   \n",
       "\n",
       "   Store7  PctDiscMM  PctDiscCH  ListPriceDiff  STORE  \n",
       "0       0   0.000000   0.000000           0.24      1  \n",
       "1       0   0.150754   0.000000           0.24      1  \n",
       "2       0   0.000000   0.091398           0.23      1  \n",
       "3       0   0.000000   0.000000           0.00      1  \n",
       "4       1   0.000000   0.000000           0.00      0  "
      ]
     },
     "execution_count": 2,
     "metadata": {},
     "output_type": "execute_result"
    }
   ],
   "source": [
    "OJ = load_data('OJ')\n",
    "OJ['Store7'] = OJ['Store7'].replace({'Yes':1,'No':0}).astype(int) \n",
    "OJ.head()"
   ]
  },
  {
   "cell_type": "markdown",
   "id": "4ca06545-f553-4856-bca9-1f841131d750",
   "metadata": {},
   "source": [
    "(a) Create a training set containing a random sample of 800 observations, and a test set containing the remaining observations."
   ]
  },
  {
   "cell_type": "code",
   "execution_count": 3,
   "id": "f43a6de1-4db7-4744-8581-bb036828964d",
   "metadata": {},
   "outputs": [],
   "source": [
    "X = OJ[OJ.columns.drop('Purchase')]\n",
    "y = OJ['Purchase']\n",
    "\n",
    "X = preprocessing.scale(X)\n",
    "\n",
    "X_train, X_test, y_train, y_test = train_test_split(X, y, train_size=800, random_state=0)"
   ]
  },
  {
   "cell_type": "markdown",
   "id": "ca98f8ce-cefa-4f8d-8074-70ea408312d0",
   "metadata": {},
   "source": [
    "(b) Fit a support vector classifier to the training data using C = 0.01, with Purchase as the response and the other variables as predictors. How many support points are there?"
   ]
  },
  {
   "cell_type": "code",
   "execution_count": 4,
   "id": "ee985348-80b5-4fc1-9de6-2d3d47bbe084",
   "metadata": {},
   "outputs": [
    {
     "name": "stdout",
     "output_type": "stream",
     "text": [
      "There are 429 support vectors\n"
     ]
    }
   ],
   "source": [
    "linear_model = SVC(C=0.01, kernel='linear', random_state=0)\n",
    "linear_model.fit(X_train, y_train)\n",
    "\n",
    "n_support_vectors = len(linear_model.support_) # Indices of support vectors \n",
    "print(f\"There are {n_support_vectors} support vectors\")"
   ]
  },
  {
   "cell_type": "markdown",
   "id": "ff97c4dd-3981-4686-bfdf-59ccab2a5401",
   "metadata": {},
   "source": [
    "(c) What are the training and test error rates?"
   ]
  },
  {
   "cell_type": "code",
   "execution_count": 5,
   "id": "906eca37-cb16-46b6-8f4b-9c751759c313",
   "metadata": {},
   "outputs": [
    {
     "name": "stdout",
     "output_type": "stream",
     "text": [
      "Training accuracy is 0.83\n",
      "Testing accuracy is 0.81\n"
     ]
    }
   ],
   "source": [
    "tr_pred = linear_model.predict(X_train)\n",
    "te_pred = linear_model.predict(X_test)\n",
    "    \n",
    "tr_acc = accuracy_score(tr_pred, y_train)\n",
    "te_acc = accuracy_score(te_pred, y_test)\n",
    "    \n",
    "print(f\"Training accuracy is {np.round(tr_acc,2)}\")\n",
    "print(f\"Testing accuracy is {np.round(te_acc,2)}\")"
   ]
  },
  {
   "cell_type": "markdown",
   "id": "706dfb20-c8fb-4798-aed4-8b0a7d57d900",
   "metadata": {},
   "source": [
    "(d) Use cross-validation to select an optimal C. Consider values in the range 0.01 to 10."
   ]
  },
  {
   "cell_type": "code",
   "execution_count": 6,
   "id": "b2d1e1cb-0b1d-4f6a-96ee-26f99c60e5c4",
   "metadata": {},
   "outputs": [
    {
     "name": "stdout",
     "output_type": "stream",
     "text": [
      "The optimal value of C is 6.1263265306122445\n"
     ]
    }
   ],
   "source": [
    "def tune_model(k, **kwargs):\n",
    "    c_values = np.linspace(0.01,10,50)\n",
    "    results = pd.DataFrame(columns=['C', 'Acc'])\n",
    "    for c_i in c_values:\n",
    "        model = SVC(C=c_i, kernel=k, random_state=0, **kwargs)\n",
    "        scores = cross_val_score(model, X, y, cv=10, scoring='accuracy')\n",
    "        acc = np.mean(scores)\n",
    "        new_row = pd.DataFrame({'C': [c_i], 'Acc': [acc]})\n",
    "        results = pd.concat([results, new_row], ignore_index=True)\n",
    "    return results\n",
    "\n",
    "results_linear = tune_model('linear')\n",
    "\n",
    "max_acc_row = results_linear.loc[results_linear['Acc'].idxmax()]\n",
    "best_C_l = max_acc_row['C']\n",
    "\n",
    "print(f\"The optimal value of C is {best_C_l}\")"
   ]
  },
  {
   "cell_type": "markdown",
   "id": "9e12bfec-6761-4190-ba63-83117da60c88",
   "metadata": {},
   "source": [
    "(e) Compute the training and test error rates using this new value for C"
   ]
  },
  {
   "cell_type": "code",
   "execution_count": 7,
   "id": "344f0ee5-7ad3-4019-af89-97be77e89ba2",
   "metadata": {},
   "outputs": [
    {
     "name": "stdout",
     "output_type": "stream",
     "text": [
      "Best training accuracy is 0.84\n",
      "Best testing accuracy is 0.81\n"
     ]
    }
   ],
   "source": [
    "best_linear = SVC(C=best_C_l, kernel='linear', random_state=0).fit(X_train, y_train)\n",
    "\n",
    "pred_tr = best_linear.predict(X_train)\n",
    "pred_te = best_linear.predict(X_test)\n",
    "tr_acc_lin = np.round(accuracy_score(pred_tr, y_train),2)\n",
    "te_acc_lin = np.round(accuracy_score(pred_te, y_test),2)\n",
    "\n",
    "print(f\"Best training accuracy is {tr_acc_lin}\")\n",
    "print(f\"Best testing accuracy is {te_acc_lin}\")"
   ]
  },
  {
   "cell_type": "markdown",
   "id": "96f2038a-ac3b-4c66-bc94-b492bf253069",
   "metadata": {},
   "source": [
    "(f) Repeat parts (b) through (e) using a support vector machine with a radial kernel. Use the default value for gamma."
   ]
  },
  {
   "cell_type": "code",
   "execution_count": 8,
   "id": "18d2ce2a-f648-45fe-91bc-930f495bdc10",
   "metadata": {},
   "outputs": [
    {
     "name": "stdout",
     "output_type": "stream",
     "text": [
      "The optimal value of C is 0.8255102040816327\n",
      "Best training accuracy is 0.85\n",
      "Best testing accuracy is 0.82\n"
     ]
    }
   ],
   "source": [
    "results_radial = tune_model('rbf')\n",
    "\n",
    "max_acc_row = results_radial.loc[results_radial['Acc'].idxmax()]\n",
    "best_C_r = max_acc_row['C']\n",
    "\n",
    "print(f\"The optimal value of C is {best_C_r}\")\n",
    "\n",
    "best_radial = SVC(C=best_C_r, kernel='rbf', random_state=0).fit(X_train, y_train)\n",
    "\n",
    "pred_tr = best_radial.predict(X_train)\n",
    "pred_te = best_radial.predict(X_test)\n",
    "tr_acc_rad = np.round(accuracy_score(pred_tr, y_train),2)\n",
    "te_acc_rad = np.round(accuracy_score(pred_te, y_test),2)\n",
    "\n",
    "print(f\"Best training accuracy is {tr_acc_rad}\")\n",
    "print(f\"Best testing accuracy is {te_acc_rad}\")"
   ]
  },
  {
   "cell_type": "markdown",
   "id": "74a641ff-a738-4283-9c42-24037c37cd4a",
   "metadata": {},
   "source": [
    "(g) Repeat parts (b) through (e) using a support vector machine with a polynomial kernel. Set degree = 2."
   ]
  },
  {
   "cell_type": "code",
   "execution_count": 9,
   "id": "04fd9bcb-a30e-42e4-9448-8ba33dd46e58",
   "metadata": {},
   "outputs": [
    {
     "name": "stdout",
     "output_type": "stream",
     "text": [
      "The optimal value of C is 9.796122448979592\n",
      "Best training accuracy is 0.79\n",
      "Best testing accuracy is 0.76\n"
     ]
    }
   ],
   "source": [
    "results_poly = tune_model('poly', degree=2)\n",
    "\n",
    "max_acc_row = results_poly.loc[results_poly['Acc'].idxmax()]\n",
    "best_C_p = max_acc_row['C']\n",
    "\n",
    "print(f\"The optimal value of C is {best_C_p}\")\n",
    "\n",
    "best_poly = SVC(C=best_C_p, kernel='poly', degree=2, random_state=0).fit(X_train, y_train)\n",
    "\n",
    "pred_tr = best_poly.predict(X_train)\n",
    "pred_te = best_poly.predict(X_test)\n",
    "tr_acc_poly = np.round(accuracy_score(pred_tr, y_train),2)\n",
    "te_acc_poly = np.round(accuracy_score(pred_te, y_test),2)\n",
    "\n",
    "print(f\"Best training accuracy is {tr_acc_poly}\")\n",
    "print(f\"Best testing accuracy is {te_acc_poly}\")"
   ]
  },
  {
   "cell_type": "markdown",
   "id": "ceda776e-7798-457e-8f45-b6b91056318a",
   "metadata": {},
   "source": [
    "(h) Overall, which approach seems to give the best results on this data?"
   ]
  },
  {
   "cell_type": "markdown",
   "id": "afe5a68c-41e8-476c-8ff8-17fb61279026",
   "metadata": {},
   "source": [
    ">- The radial kernel seems to give the best results on this data.\n",
    ">- It's surprising to note that the linear kernel performs better than the polynomial kernel, given that the true boundary may be non-linear. "
   ]
  }
 ],
 "metadata": {
  "kernelspec": {
   "display_name": "Python 3 (ipykernel)",
   "language": "python",
   "name": "python3"
  },
  "language_info": {
   "codemirror_mode": {
    "name": "ipython",
    "version": 3
   },
   "file_extension": ".py",
   "mimetype": "text/x-python",
   "name": "python",
   "nbconvert_exporter": "python",
   "pygments_lexer": "ipython3",
   "version": "3.12.4"
  }
 },
 "nbformat": 4,
 "nbformat_minor": 5
}
