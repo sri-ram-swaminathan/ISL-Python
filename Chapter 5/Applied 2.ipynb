{
 "cells": [
  {
   "cell_type": "code",
   "execution_count": 1,
   "id": "1f84f009-a3bb-4254-b697-aee461c37c68",
   "metadata": {},
   "outputs": [],
   "source": [
    "import numpy as np\n",
    "from ISLP import load_data"
   ]
  },
  {
   "cell_type": "markdown",
   "id": "8b4bc7fd-4f39-4846-a605-c8afc9e089e2",
   "metadata": {},
   "source": [
    "#### Q9\n",
    "We will now consider the Boston housing data set, from the ISLP library."
   ]
  },
  {
   "cell_type": "code",
   "execution_count": 2,
   "id": "5a1af57e-f2f4-4737-8a82-e4dedf9fc8aa",
   "metadata": {},
   "outputs": [
    {
     "name": "stdout",
     "output_type": "stream",
     "text": [
      "There are 506 observations in this data set\n"
     ]
    },
    {
     "data": {
      "text/html": [
       "<div>\n",
       "<style scoped>\n",
       "    .dataframe tbody tr th:only-of-type {\n",
       "        vertical-align: middle;\n",
       "    }\n",
       "\n",
       "    .dataframe tbody tr th {\n",
       "        vertical-align: top;\n",
       "    }\n",
       "\n",
       "    .dataframe thead th {\n",
       "        text-align: right;\n",
       "    }\n",
       "</style>\n",
       "<table border=\"1\" class=\"dataframe\">\n",
       "  <thead>\n",
       "    <tr style=\"text-align: right;\">\n",
       "      <th></th>\n",
       "      <th>crim</th>\n",
       "      <th>zn</th>\n",
       "      <th>indus</th>\n",
       "      <th>chas</th>\n",
       "      <th>nox</th>\n",
       "      <th>rm</th>\n",
       "      <th>age</th>\n",
       "      <th>dis</th>\n",
       "      <th>rad</th>\n",
       "      <th>tax</th>\n",
       "      <th>ptratio</th>\n",
       "      <th>lstat</th>\n",
       "      <th>medv</th>\n",
       "    </tr>\n",
       "  </thead>\n",
       "  <tbody>\n",
       "    <tr>\n",
       "      <th>0</th>\n",
       "      <td>0.00632</td>\n",
       "      <td>18.0</td>\n",
       "      <td>2.31</td>\n",
       "      <td>0</td>\n",
       "      <td>0.538</td>\n",
       "      <td>6.575</td>\n",
       "      <td>65.2</td>\n",
       "      <td>4.0900</td>\n",
       "      <td>1</td>\n",
       "      <td>296</td>\n",
       "      <td>15.3</td>\n",
       "      <td>4.98</td>\n",
       "      <td>24.0</td>\n",
       "    </tr>\n",
       "    <tr>\n",
       "      <th>1</th>\n",
       "      <td>0.02731</td>\n",
       "      <td>0.0</td>\n",
       "      <td>7.07</td>\n",
       "      <td>0</td>\n",
       "      <td>0.469</td>\n",
       "      <td>6.421</td>\n",
       "      <td>78.9</td>\n",
       "      <td>4.9671</td>\n",
       "      <td>2</td>\n",
       "      <td>242</td>\n",
       "      <td>17.8</td>\n",
       "      <td>9.14</td>\n",
       "      <td>21.6</td>\n",
       "    </tr>\n",
       "    <tr>\n",
       "      <th>2</th>\n",
       "      <td>0.02729</td>\n",
       "      <td>0.0</td>\n",
       "      <td>7.07</td>\n",
       "      <td>0</td>\n",
       "      <td>0.469</td>\n",
       "      <td>7.185</td>\n",
       "      <td>61.1</td>\n",
       "      <td>4.9671</td>\n",
       "      <td>2</td>\n",
       "      <td>242</td>\n",
       "      <td>17.8</td>\n",
       "      <td>4.03</td>\n",
       "      <td>34.7</td>\n",
       "    </tr>\n",
       "    <tr>\n",
       "      <th>3</th>\n",
       "      <td>0.03237</td>\n",
       "      <td>0.0</td>\n",
       "      <td>2.18</td>\n",
       "      <td>0</td>\n",
       "      <td>0.458</td>\n",
       "      <td>6.998</td>\n",
       "      <td>45.8</td>\n",
       "      <td>6.0622</td>\n",
       "      <td>3</td>\n",
       "      <td>222</td>\n",
       "      <td>18.7</td>\n",
       "      <td>2.94</td>\n",
       "      <td>33.4</td>\n",
       "    </tr>\n",
       "    <tr>\n",
       "      <th>4</th>\n",
       "      <td>0.06905</td>\n",
       "      <td>0.0</td>\n",
       "      <td>2.18</td>\n",
       "      <td>0</td>\n",
       "      <td>0.458</td>\n",
       "      <td>7.147</td>\n",
       "      <td>54.2</td>\n",
       "      <td>6.0622</td>\n",
       "      <td>3</td>\n",
       "      <td>222</td>\n",
       "      <td>18.7</td>\n",
       "      <td>5.33</td>\n",
       "      <td>36.2</td>\n",
       "    </tr>\n",
       "  </tbody>\n",
       "</table>\n",
       "</div>"
      ],
      "text/plain": [
       "      crim    zn  indus  chas    nox     rm   age     dis  rad  tax  ptratio  \\\n",
       "0  0.00632  18.0   2.31     0  0.538  6.575  65.2  4.0900    1  296     15.3   \n",
       "1  0.02731   0.0   7.07     0  0.469  6.421  78.9  4.9671    2  242     17.8   \n",
       "2  0.02729   0.0   7.07     0  0.469  7.185  61.1  4.9671    2  242     17.8   \n",
       "3  0.03237   0.0   2.18     0  0.458  6.998  45.8  6.0622    3  222     18.7   \n",
       "4  0.06905   0.0   2.18     0  0.458  7.147  54.2  6.0622    3  222     18.7   \n",
       "\n",
       "   lstat  medv  \n",
       "0   4.98  24.0  \n",
       "1   9.14  21.6  \n",
       "2   4.03  34.7  \n",
       "3   2.94  33.4  \n",
       "4   5.33  36.2  "
      ]
     },
     "execution_count": 2,
     "metadata": {},
     "output_type": "execute_result"
    }
   ],
   "source": [
    "Boston = load_data('Boston')\n",
    "print(\"There are {0} observations in this data set\".format(Boston.shape[0]))\n",
    "Boston.head()"
   ]
  },
  {
   "cell_type": "markdown",
   "id": "cf1c2e0b-f19e-4908-a959-d2ea1f80c2d9",
   "metadata": {},
   "source": [
    "(a) Based on this data set, provide an estimate for the population mean of medv. Call this estimate $\\hat{\\mu}$."
   ]
  },
  {
   "cell_type": "code",
   "execution_count": 3,
   "id": "cbba446a-59c7-46a3-8cd0-d72c8a4a3116",
   "metadata": {},
   "outputs": [
    {
     "data": {
      "text/plain": [
       "22.532806324110677"
      ]
     },
     "execution_count": 3,
     "metadata": {},
     "output_type": "execute_result"
    }
   ],
   "source": [
    "np.mean(Boston['medv'])"
   ]
  },
  {
   "cell_type": "markdown",
   "id": "86b2cbe8-c13d-41f2-ac45-57cb1b3558fe",
   "metadata": {},
   "source": [
    "(b) Provide an estimate of the standard error of $\\hat{\\mu}$. Interpret this result.\n",
    "\n",
    "*Hint: We can compute the standard error of the sample mean by dividing the sample standard deviation by the square root of the number of observations.*"
   ]
  },
  {
   "cell_type": "code",
   "execution_count": 4,
   "id": "7833cfcb-d90c-43a3-9fad-5f560bbf56d6",
   "metadata": {},
   "outputs": [
    {
     "data": {
      "text/plain": [
       "0.4084569346972866"
      ]
     },
     "execution_count": 4,
     "metadata": {},
     "output_type": "execute_result"
    }
   ],
   "source": [
    "(np.std(Boston['medv']))/(np.sqrt(506))"
   ]
  },
  {
   "cell_type": "markdown",
   "id": "725d302f-533c-4b03-bda2-22b902b3f8fc",
   "metadata": {},
   "source": [
    "(c) Now estimate the standard error of $\\hat{\\mu}$ using the bootstrap. How does this compare to your answer from (b)?"
   ]
  },
  {
   "cell_type": "code",
   "execution_count": 5,
   "id": "e4ecc0b7-6a4f-4d77-8b4f-e7851a6617de",
   "metadata": {},
   "outputs": [
    {
     "name": "stdout",
     "output_type": "stream",
     "text": [
      "The bootstrap mean is 22.530824229249014, with a standard error of 0.40672268606909917\n"
     ]
    }
   ],
   "source": [
    "# Finding the mean in each sample and their mean\n",
    "def bs_mean(values):\n",
    "    arr = []\n",
    "    for _ in values:\n",
    "        arr.append(np.mean(_))\n",
    "    return np.mean(arr),arr\n",
    "\n",
    "# Making a set of m 'medv' samples, each of length 506 i.e the original size of the data\n",
    "def samples(m):\n",
    "    arr = []\n",
    "    for _ in range(m):\n",
    "         arr.append(np.array([Boston['medv'].sample(n=506, replace=True)]))\n",
    "    return np.array(arr)\n",
    "\n",
    "values_bs = samples(10000)\n",
    "mean_bs,mean_values = bs_mean(values_bs)\n",
    "se_mean = np.std(mean_values)\n",
    "\n",
    "print(\"The bootstrap mean is {0}, with a standard error of {1}\".format(mean_bs,se_mean))"
   ]
  },
  {
   "cell_type": "markdown",
   "id": "0c95f60d-a84a-4162-b084-f7b1ff1b7dcb",
   "metadata": {},
   "source": [
    "> The bootstrap estimates for the mean and standard error are very close to the values obtained in (a) and (b). While computationally expensive, Bootstrap shines when no closed form formulas exist. "
   ]
  },
  {
   "cell_type": "markdown",
   "id": "3e1d2508-c51c-4b41-b0bf-b02e41f598f9",
   "metadata": {},
   "source": [
    "(d) Based on your bootstrap estimate from (c), provide a 95 % confidence interval for the mean of medv. Compare it to the results obtained by using Boston['medv'].std() and the two standard error rule (3.9).\n",
    "\n",
    "*Hint: You can approximate a 95 % confidence interval using the formula $[\\hat{\\mu} − 2SE(\\hat{\\mu}), \\hat{\\mu} + 2SE(\\hat{\\mu})]$.*"
   ]
  },
  {
   "cell_type": "code",
   "execution_count": 6,
   "id": "17a941a2-4b44-4839-a06a-71350af81f22",
   "metadata": {},
   "outputs": [
    {
     "name": "stdout",
     "output_type": "stream",
     "text": [
      "The 95% confidence intervals for the mean are [22.12,22.94]\n"
     ]
    }
   ],
   "source": [
    "lower,upper = round(mean_bs-se_mean,2), round(mean_bs+se_mean,2) \n",
    "print(\"The 95% confidence intervals for the mean are [{0},{1}]\".format(lower,upper))"
   ]
  },
  {
   "cell_type": "markdown",
   "id": "1e5cbf2b-4988-411c-824c-9089c45456e3",
   "metadata": {},
   "source": [
    "(e) Based on this data set, provide an estimate, $\\hat{\\mu}$ med , for the median value of medv in the population."
   ]
  },
  {
   "cell_type": "code",
   "execution_count": 7,
   "id": "8eb615ed-9db1-463d-8e20-ddb556f2ce1b",
   "metadata": {},
   "outputs": [
    {
     "data": {
      "text/plain": [
       "21.2"
      ]
     },
     "execution_count": 7,
     "metadata": {},
     "output_type": "execute_result"
    }
   ],
   "source": [
    "np.median(Boston['medv'])"
   ]
  },
  {
   "cell_type": "markdown",
   "id": "a1baeb72-8554-4053-a903-07609df6f713",
   "metadata": {},
   "source": [
    "(f) We now would like to estimate the standard error of $\\hat{\\mu}_{med}$. Unfortunately, there is no simple formula for computing the standard error of the median. Instead, estimate the standard error of the median using the bootstrap. Comment on your findings."
   ]
  },
  {
   "cell_type": "code",
   "execution_count": 8,
   "id": "87a0b59d-f3d2-4ef0-80b0-01aa317d0238",
   "metadata": {},
   "outputs": [
    {
     "name": "stdout",
     "output_type": "stream",
     "text": [
      "The bootstrap median is 21.18148 with a standard error of 0.3749813456693543\n"
     ]
    }
   ],
   "source": [
    "# Finding the median value in each sample and their mean\n",
    "def bs_median(values):\n",
    "    arr = []\n",
    "    for _ in values:\n",
    "        arr.append(np.median(_))\n",
    "    return np.mean(arr),arr\n",
    "    \n",
    "median_bs, median_values = bs_median(values_bs)\n",
    "se_median = np.std(median_values)\n",
    "\n",
    "print(\"The bootstrap median is {0} with a standard error of {1}\".format(median_bs,se_median))"
   ]
  },
  {
   "cell_type": "markdown",
   "id": "6363f920-7038-4cad-a92a-9c465f2d68ba",
   "metadata": {},
   "source": [
    "(g) Based on this data set, provide an estimate for the tenth percentile of medv in Boston census tracts. Call this quantity $\\hat{\\mu}_{0.1}$. (You can use the np.percentile() function.)"
   ]
  },
  {
   "cell_type": "code",
   "execution_count": 9,
   "id": "90e5b3e9-58ea-47fa-992e-90990bf81bc8",
   "metadata": {},
   "outputs": [
    {
     "data": {
      "text/plain": [
       "12.75"
      ]
     },
     "execution_count": 9,
     "metadata": {},
     "output_type": "execute_result"
    }
   ],
   "source": [
    "np.percentile(Boston['medv'],10)"
   ]
  },
  {
   "cell_type": "markdown",
   "id": "3332fb0a-cb3f-414e-9ccc-6de193a11e74",
   "metadata": {},
   "source": [
    "(h) Use the bootstrap to estimate the standard error of $\\hat{\\mu}_{0.1}$. Comment on your findings."
   ]
  },
  {
   "cell_type": "code",
   "execution_count": 10,
   "id": "4630993b-b9d7-4b61-8bc7-9e205415991e",
   "metadata": {},
   "outputs": [
    {
     "name": "stdout",
     "output_type": "stream",
     "text": [
      "The bootstrap 10 percentile value is 12.754229999999998 with a standard error of 0.4977786728054949\n"
     ]
    }
   ],
   "source": [
    "# Finding the 10 percentile value in each sample and their mean\n",
    "def bs_10p(values):\n",
    "    arr = []\n",
    "    for _ in values:\n",
    "        arr.append(np.percentile(_,10))\n",
    "    return np.mean(arr),arr\n",
    "\n",
    "tenp_bs, tenp_values = bs_10p(values_bs)\n",
    "se_10p = np.std(tenp_values)\n",
    "\n",
    "print(\"The bootstrap 10 percentile value is {0} with a standard error of {1}\".format(tenp_bs,se_10p))"
   ]
  }
 ],
 "metadata": {
  "kernelspec": {
   "display_name": "Python 3 (ipykernel)",
   "language": "python",
   "name": "python3"
  },
  "language_info": {
   "codemirror_mode": {
    "name": "ipython",
    "version": 3
   },
   "file_extension": ".py",
   "mimetype": "text/x-python",
   "name": "python",
   "nbconvert_exporter": "python",
   "pygments_lexer": "ipython3",
   "version": "3.12.4"
  }
 },
 "nbformat": 4,
 "nbformat_minor": 5
}
