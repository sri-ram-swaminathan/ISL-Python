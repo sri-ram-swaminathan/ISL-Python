{
 "cells": [
  {
   "cell_type": "markdown",
   "id": "d0cdf6be-0a3c-448d-a102-5e8fa5909b35",
   "metadata": {},
   "source": [
    "#### Q1\n",
    "Using basic statistical properties of the variance, as well as single variable calculus, derive (5.6). In other words, prove that $\\alpha$ given by (5.6) does indeed minimize $Var(\\alpha X + (1-\\alpha) Y)$.\n",
    "<div>\n",
    "<center>\n",
    "<img src=\"1.jpg\" width=\"400\"/>\n",
    "</center>\n",
    "</div>\n",
    "\n",
    ">- $f=Var(\\alpha X + (1-\\alpha) Y) = Var(\\alpha X) + Var((1-\\alpha) Y) + 2 cov(\\alpha X, (1-\\alpha)Y)$\n",
    ">- $ f = \\alpha^{2} Var(X) + (1-\\alpha)^{2} Var(Y) + \\alpha (1-\\alpha) cov(X,Y)$\n",
    ">- $\\frac{\\partial f}{\\partial \\alpha}=  2 \\alpha Var(X) - 2(1-\\alpha)Var(Y) + 2 ((1-\\alpha)cov(X,Y) - \\alpha cov(X,Y))$\n",
    ">- We set this function to 0, to obtain the minima and on simplifying find that $\\alpha=\\frac{Var(Y)-cov(X,Y)}{Var(X)+Var(Y)-2cov(X,Y)}=\\frac{\\sigma^{2}_{Y}-\\sigma_{XY}}{\\sigma^{2}_{X}+\\sigma^{2}_{Y}-2\\sigma_{XY}}$\n",
    "#### Q3\n",
    "We now review k-fold cross-validation.\n",
    "\n",
    "(a) Explain how k-fold cross-validation is implemented.\n",
    ">- We divide a data set with n points randomly into k parts, each of length n/k. Then we pick one of these parts to be the validation set and use the rest of the parts for training the model.\n",
    ">- This procedure is repeated for all k parts and the test error is the average error after k iterations, $CV_{k}=\\frac{1}{k} \\sum_{i=1}^{k}MSE_{i}$\n",
    "\n",
    "(b) What are the advantages and disadvantages of k-fold cross-validation relative to:\n",
    "\n",
    "i. The validation set approach?\n",
    ">- (+) Lower bias and variability in validation error.\n",
    ">- (+) Does not overestimate validation error.\n",
    "\n",
    "ii. LOOCV\n",
    ">- (+) Computationally less expensive.\n",
    ">- (+) Lower variance.\n",
    ">- (-) Higher bias."
   ]
  }
 ],
 "metadata": {
  "kernelspec": {
   "display_name": "Python 3 (ipykernel)",
   "language": "python",
   "name": "python3"
  },
  "language_info": {
   "codemirror_mode": {
    "name": "ipython",
    "version": 3
   },
   "file_extension": ".py",
   "mimetype": "text/x-python",
   "name": "python",
   "nbconvert_exporter": "python",
   "pygments_lexer": "ipython3",
   "version": "3.12.4"
  }
 },
 "nbformat": 4,
 "nbformat_minor": 5
}
